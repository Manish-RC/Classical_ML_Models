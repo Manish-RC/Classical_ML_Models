{
 "cells": [
  {
   "cell_type": "code",
   "execution_count": 1,
   "id": "01bd82f6",
   "metadata": {},
   "outputs": [
    {
     "data": {
      "text/html": [
       "<div>\n",
       "<style scoped>\n",
       "    .dataframe tbody tr th:only-of-type {\n",
       "        vertical-align: middle;\n",
       "    }\n",
       "\n",
       "    .dataframe tbody tr th {\n",
       "        vertical-align: top;\n",
       "    }\n",
       "\n",
       "    .dataframe thead th {\n",
       "        text-align: right;\n",
       "    }\n",
       "</style>\n",
       "<table border=\"1\" class=\"dataframe\">\n",
       "  <thead>\n",
       "    <tr style=\"text-align: right;\">\n",
       "      <th></th>\n",
       "      <th>year</th>\n",
       "      <th>month</th>\n",
       "      <th>day</th>\n",
       "      <th>order</th>\n",
       "      <th>country</th>\n",
       "      <th>session ID</th>\n",
       "      <th>page 1 (main category)</th>\n",
       "      <th>page 2 (clothing model)</th>\n",
       "      <th>colour</th>\n",
       "      <th>location</th>\n",
       "      <th>model photography</th>\n",
       "      <th>price</th>\n",
       "      <th>price 2</th>\n",
       "      <th>page</th>\n",
       "    </tr>\n",
       "  </thead>\n",
       "  <tbody>\n",
       "    <tr>\n",
       "      <th>0</th>\n",
       "      <td>2008</td>\n",
       "      <td>4</td>\n",
       "      <td>1</td>\n",
       "      <td>1</td>\n",
       "      <td>29</td>\n",
       "      <td>1</td>\n",
       "      <td>1</td>\n",
       "      <td>A13</td>\n",
       "      <td>1</td>\n",
       "      <td>5</td>\n",
       "      <td>1</td>\n",
       "      <td>28</td>\n",
       "      <td>2</td>\n",
       "      <td>1</td>\n",
       "    </tr>\n",
       "    <tr>\n",
       "      <th>1</th>\n",
       "      <td>2008</td>\n",
       "      <td>4</td>\n",
       "      <td>1</td>\n",
       "      <td>2</td>\n",
       "      <td>29</td>\n",
       "      <td>1</td>\n",
       "      <td>1</td>\n",
       "      <td>A16</td>\n",
       "      <td>1</td>\n",
       "      <td>6</td>\n",
       "      <td>1</td>\n",
       "      <td>33</td>\n",
       "      <td>2</td>\n",
       "      <td>1</td>\n",
       "    </tr>\n",
       "    <tr>\n",
       "      <th>2</th>\n",
       "      <td>2008</td>\n",
       "      <td>4</td>\n",
       "      <td>1</td>\n",
       "      <td>3</td>\n",
       "      <td>29</td>\n",
       "      <td>1</td>\n",
       "      <td>2</td>\n",
       "      <td>B4</td>\n",
       "      <td>10</td>\n",
       "      <td>2</td>\n",
       "      <td>1</td>\n",
       "      <td>52</td>\n",
       "      <td>1</td>\n",
       "      <td>1</td>\n",
       "    </tr>\n",
       "    <tr>\n",
       "      <th>3</th>\n",
       "      <td>2008</td>\n",
       "      <td>4</td>\n",
       "      <td>1</td>\n",
       "      <td>4</td>\n",
       "      <td>29</td>\n",
       "      <td>1</td>\n",
       "      <td>2</td>\n",
       "      <td>B17</td>\n",
       "      <td>6</td>\n",
       "      <td>6</td>\n",
       "      <td>2</td>\n",
       "      <td>38</td>\n",
       "      <td>2</td>\n",
       "      <td>1</td>\n",
       "    </tr>\n",
       "    <tr>\n",
       "      <th>4</th>\n",
       "      <td>2008</td>\n",
       "      <td>4</td>\n",
       "      <td>1</td>\n",
       "      <td>5</td>\n",
       "      <td>29</td>\n",
       "      <td>1</td>\n",
       "      <td>2</td>\n",
       "      <td>B8</td>\n",
       "      <td>4</td>\n",
       "      <td>3</td>\n",
       "      <td>2</td>\n",
       "      <td>52</td>\n",
       "      <td>1</td>\n",
       "      <td>1</td>\n",
       "    </tr>\n",
       "  </tbody>\n",
       "</table>\n",
       "</div>"
      ],
      "text/plain": [
       "   year  month  day  order  country  session ID  page 1 (main category)  \\\n",
       "0  2008      4    1      1       29           1                       1   \n",
       "1  2008      4    1      2       29           1                       1   \n",
       "2  2008      4    1      3       29           1                       2   \n",
       "3  2008      4    1      4       29           1                       2   \n",
       "4  2008      4    1      5       29           1                       2   \n",
       "\n",
       "  page 2 (clothing model)  colour  location  model photography  price  \\\n",
       "0                     A13       1         5                  1     28   \n",
       "1                     A16       1         6                  1     33   \n",
       "2                      B4      10         2                  1     52   \n",
       "3                     B17       6         6                  2     38   \n",
       "4                      B8       4         3                  2     52   \n",
       "\n",
       "   price 2  page  \n",
       "0        2     1  \n",
       "1        2     1  \n",
       "2        1     1  \n",
       "3        2     1  \n",
       "4        1     1  "
      ]
     },
     "execution_count": 1,
     "metadata": {},
     "output_type": "execute_result"
    }
   ],
   "source": [
    "import pandas as pd\n",
    "df=pd.read_csv(\"AFTER SPLIT.csv\")\n",
    "df.head()"
   ]
  },
  {
   "cell_type": "code",
   "execution_count": 2,
   "id": "e4451892",
   "metadata": {},
   "outputs": [
    {
     "data": {
      "text/plain": [
       "(165474, 14)"
      ]
     },
     "execution_count": 2,
     "metadata": {},
     "output_type": "execute_result"
    }
   ],
   "source": [
    "df.shape"
   ]
  },
  {
   "cell_type": "code",
   "execution_count": 3,
   "id": "638ad97f",
   "metadata": {},
   "outputs": [
    {
     "data": {
      "text/plain": [
       "<bound method DataFrame.count of         year  month  day  order  country  session ID  page 1 (main category)  \\\n",
       "0       2008      4    1      1       29           1                       1   \n",
       "1       2008      4    1      2       29           1                       1   \n",
       "2       2008      4    1      3       29           1                       2   \n",
       "3       2008      4    1      4       29           1                       2   \n",
       "4       2008      4    1      5       29           1                       2   \n",
       "...      ...    ...  ...    ...      ...         ...                     ...   \n",
       "165469  2008      8   13      1       29       24024                       2   \n",
       "165470  2008      8   13      1        9       24025                       1   \n",
       "165471  2008      8   13      1       34       24026                       1   \n",
       "165472  2008      8   13      2       34       24026                       3   \n",
       "165473  2008      8   13      3       34       24026                       2   \n",
       "\n",
       "       page 2 (clothing model)  colour  location  model photography  price  \\\n",
       "0                          A13       1         5                  1     28   \n",
       "1                          A16       1         6                  1     33   \n",
       "2                           B4      10         2                  1     52   \n",
       "3                          B17       6         6                  2     38   \n",
       "4                           B8       4         3                  2     52   \n",
       "...                        ...     ...       ...                ...    ...   \n",
       "165469                     B10       2         4                  1     67   \n",
       "165470                     A11       3         4                  1     62   \n",
       "165471                      A2       3         1                  1     43   \n",
       "165472                      C2      12         1                  1     43   \n",
       "165473                      B2       3         1                  2     57   \n",
       "\n",
       "        price 2  page  \n",
       "0             2     1  \n",
       "1             2     1  \n",
       "2             1     1  \n",
       "3             2     1  \n",
       "4             1     1  \n",
       "...         ...   ...  \n",
       "165469        1     1  \n",
       "165470        1     1  \n",
       "165471        2     1  \n",
       "165472        1     1  \n",
       "165473        1     1  \n",
       "\n",
       "[165474 rows x 14 columns]>"
      ]
     },
     "execution_count": 3,
     "metadata": {},
     "output_type": "execute_result"
    }
   ],
   "source": [
    "df.count"
   ]
  },
  {
   "cell_type": "code",
   "execution_count": 4,
   "id": "f9443f2e",
   "metadata": {},
   "outputs": [
    {
     "data": {
      "text/plain": [
       "Index(['year', 'month', 'day', 'order', 'country', 'session ID',\n",
       "       'page 1 (main category)', 'page 2 (clothing model)', 'colour',\n",
       "       'location', 'model photography', 'price', 'price 2', 'page'],\n",
       "      dtype='object')"
      ]
     },
     "execution_count": 4,
     "metadata": {},
     "output_type": "execute_result"
    }
   ],
   "source": [
    "df.columns"
   ]
  },
  {
   "cell_type": "code",
   "execution_count": 5,
   "id": "b05d5033",
   "metadata": {
    "scrolled": true
   },
   "outputs": [
    {
     "data": {
      "text/plain": [
       "year                        int64\n",
       "month                       int64\n",
       "day                         int64\n",
       "order                       int64\n",
       "country                     int64\n",
       "session ID                  int64\n",
       "page 1 (main category)      int64\n",
       "page 2 (clothing model)    object\n",
       "colour                      int64\n",
       "location                    int64\n",
       "model photography           int64\n",
       "price                       int64\n",
       "price 2                     int64\n",
       "page                        int64\n",
       "dtype: object"
      ]
     },
     "execution_count": 5,
     "metadata": {},
     "output_type": "execute_result"
    }
   ],
   "source": [
    "df.dtypes"
   ]
  },
  {
   "cell_type": "code",
   "execution_count": 6,
   "id": "a5378079",
   "metadata": {},
   "outputs": [
    {
     "data": {
      "text/plain": [
       "<bound method NDFrame.describe of         year  month  day  order  country  colour  location  model photography  \\\n",
       "0       2008      4    1      1       29       1         5                  1   \n",
       "1       2008      4    1      2       29       1         6                  1   \n",
       "2       2008      4    1      3       29      10         2                  1   \n",
       "3       2008      4    1      4       29       6         6                  2   \n",
       "4       2008      4    1      5       29       4         3                  2   \n",
       "...      ...    ...  ...    ...      ...     ...       ...                ...   \n",
       "165469  2008      8   13      1       29       2         4                  1   \n",
       "165470  2008      8   13      1        9       3         4                  1   \n",
       "165471  2008      8   13      1       34       3         1                  1   \n",
       "165472  2008      8   13      2       34      12         1                  1   \n",
       "165473  2008      8   13      3       34       3         1                  2   \n",
       "\n",
       "        price  price 2  page  \n",
       "0          28        2     1  \n",
       "1          33        2     1  \n",
       "2          52        1     1  \n",
       "3          38        2     1  \n",
       "4          52        1     1  \n",
       "...       ...      ...   ...  \n",
       "165469     67        1     1  \n",
       "165470     62        1     1  \n",
       "165471     43        2     1  \n",
       "165472     43        1     1  \n",
       "165473     57        1     1  \n",
       "\n",
       "[165474 rows x 11 columns]>"
      ]
     },
     "execution_count": 6,
     "metadata": {},
     "output_type": "execute_result"
    }
   ],
   "source": [
    "df.drop([\"page 1 (main category)\",\"page 2 (clothing model)\",\"session ID\"],axis=1,inplace=True)\n",
    "df.describe"
   ]
  },
  {
   "cell_type": "code",
   "execution_count": 7,
   "id": "b031f0b9",
   "metadata": {},
   "outputs": [
    {
     "data": {
      "text/plain": [
       "year                 0\n",
       "month                0\n",
       "day                  0\n",
       "order                0\n",
       "country              0\n",
       "colour               0\n",
       "location             0\n",
       "model photography    0\n",
       "price                0\n",
       "price 2              0\n",
       "page                 0\n",
       "dtype: int64"
      ]
     },
     "execution_count": 7,
     "metadata": {},
     "output_type": "execute_result"
    }
   ],
   "source": [
    "#Checking for NULL enteries\n",
    "df.isnull().sum()"
   ]
  },
  {
   "cell_type": "code",
   "execution_count": 8,
   "id": "3bcdbb93",
   "metadata": {},
   "outputs": [
    {
     "name": "stdout",
     "output_type": "stream",
     "text": [
      "year                   0.000000\n",
      "month                  1.763998\n",
      "day                   77.975034\n",
      "order                181.666475\n",
      "country               51.132072\n",
      "colour                17.940250\n",
      "location               2.935056\n",
      "model photography      0.192434\n",
      "price                157.454645\n",
      "price 2                0.249860\n",
      "page                   0.965128\n",
      "dtype: float64\n"
     ]
    }
   ],
   "source": [
    "#Checking for zero variance\n",
    "import numpy as np\n",
    "\n",
    "var_full = np.var(df)\n",
    "print(var_full)"
   ]
  },
  {
   "cell_type": "markdown",
   "id": "179153c6",
   "metadata": {},
   "source": [
    "Here the year feature is a zero variance\n",
    "Hence It should be removed"
   ]
  },
  {
   "cell_type": "code",
   "execution_count": 10,
   "id": "0f88c60b",
   "metadata": {},
   "outputs": [],
   "source": [
    "df.drop('year', inplace=True, axis=1)\n",
    "#here inplace is used to referesh the data frame but not the orignal .csv file.\n",
    "#axis=1 implies it is a feature/column if axis =0 means it is a record/row"
   ]
  },
  {
   "cell_type": "code",
   "execution_count": 11,
   "id": "a499bbd0",
   "metadata": {},
   "outputs": [
    {
     "data": {
      "text/html": [
       "<div>\n",
       "<style scoped>\n",
       "    .dataframe tbody tr th:only-of-type {\n",
       "        vertical-align: middle;\n",
       "    }\n",
       "\n",
       "    .dataframe tbody tr th {\n",
       "        vertical-align: top;\n",
       "    }\n",
       "\n",
       "    .dataframe thead th {\n",
       "        text-align: right;\n",
       "    }\n",
       "</style>\n",
       "<table border=\"1\" class=\"dataframe\">\n",
       "  <thead>\n",
       "    <tr style=\"text-align: right;\">\n",
       "      <th></th>\n",
       "      <th>month</th>\n",
       "      <th>day</th>\n",
       "      <th>order</th>\n",
       "      <th>country</th>\n",
       "      <th>colour</th>\n",
       "      <th>location</th>\n",
       "      <th>model photography</th>\n",
       "      <th>price</th>\n",
       "      <th>price 2</th>\n",
       "      <th>page</th>\n",
       "    </tr>\n",
       "  </thead>\n",
       "  <tbody>\n",
       "    <tr>\n",
       "      <th>count</th>\n",
       "      <td>165474.000000</td>\n",
       "      <td>165474.000000</td>\n",
       "      <td>165474.000000</td>\n",
       "      <td>165474.000000</td>\n",
       "      <td>165474.000000</td>\n",
       "      <td>165474.000000</td>\n",
       "      <td>165474.000000</td>\n",
       "      <td>165474.000000</td>\n",
       "      <td>165474.000000</td>\n",
       "      <td>165474.000000</td>\n",
       "    </tr>\n",
       "    <tr>\n",
       "      <th>mean</th>\n",
       "      <td>5.585887</td>\n",
       "      <td>14.524554</td>\n",
       "      <td>9.817476</td>\n",
       "      <td>26.952621</td>\n",
       "      <td>6.227655</td>\n",
       "      <td>3.258198</td>\n",
       "      <td>1.260071</td>\n",
       "      <td>43.802507</td>\n",
       "      <td>1.488167</td>\n",
       "      <td>1.710166</td>\n",
       "    </tr>\n",
       "    <tr>\n",
       "      <th>std</th>\n",
       "      <td>1.328160</td>\n",
       "      <td>8.830374</td>\n",
       "      <td>13.478411</td>\n",
       "      <td>7.150691</td>\n",
       "      <td>4.235606</td>\n",
       "      <td>1.713206</td>\n",
       "      <td>0.438674</td>\n",
       "      <td>12.548131</td>\n",
       "      <td>0.499861</td>\n",
       "      <td>0.982412</td>\n",
       "    </tr>\n",
       "    <tr>\n",
       "      <th>min</th>\n",
       "      <td>4.000000</td>\n",
       "      <td>1.000000</td>\n",
       "      <td>1.000000</td>\n",
       "      <td>1.000000</td>\n",
       "      <td>1.000000</td>\n",
       "      <td>1.000000</td>\n",
       "      <td>1.000000</td>\n",
       "      <td>18.000000</td>\n",
       "      <td>1.000000</td>\n",
       "      <td>1.000000</td>\n",
       "    </tr>\n",
       "    <tr>\n",
       "      <th>25%</th>\n",
       "      <td>4.000000</td>\n",
       "      <td>7.000000</td>\n",
       "      <td>2.000000</td>\n",
       "      <td>29.000000</td>\n",
       "      <td>3.000000</td>\n",
       "      <td>2.000000</td>\n",
       "      <td>1.000000</td>\n",
       "      <td>33.000000</td>\n",
       "      <td>1.000000</td>\n",
       "      <td>1.000000</td>\n",
       "    </tr>\n",
       "    <tr>\n",
       "      <th>50%</th>\n",
       "      <td>5.000000</td>\n",
       "      <td>14.000000</td>\n",
       "      <td>6.000000</td>\n",
       "      <td>29.000000</td>\n",
       "      <td>4.000000</td>\n",
       "      <td>3.000000</td>\n",
       "      <td>1.000000</td>\n",
       "      <td>43.000000</td>\n",
       "      <td>1.000000</td>\n",
       "      <td>1.000000</td>\n",
       "    </tr>\n",
       "    <tr>\n",
       "      <th>75%</th>\n",
       "      <td>7.000000</td>\n",
       "      <td>22.000000</td>\n",
       "      <td>12.000000</td>\n",
       "      <td>29.000000</td>\n",
       "      <td>9.000000</td>\n",
       "      <td>5.000000</td>\n",
       "      <td>2.000000</td>\n",
       "      <td>52.000000</td>\n",
       "      <td>2.000000</td>\n",
       "      <td>2.000000</td>\n",
       "    </tr>\n",
       "    <tr>\n",
       "      <th>max</th>\n",
       "      <td>8.000000</td>\n",
       "      <td>31.000000</td>\n",
       "      <td>195.000000</td>\n",
       "      <td>47.000000</td>\n",
       "      <td>14.000000</td>\n",
       "      <td>6.000000</td>\n",
       "      <td>2.000000</td>\n",
       "      <td>82.000000</td>\n",
       "      <td>2.000000</td>\n",
       "      <td>5.000000</td>\n",
       "    </tr>\n",
       "  </tbody>\n",
       "</table>\n",
       "</div>"
      ],
      "text/plain": [
       "               month            day          order        country  \\\n",
       "count  165474.000000  165474.000000  165474.000000  165474.000000   \n",
       "mean        5.585887      14.524554       9.817476      26.952621   \n",
       "std         1.328160       8.830374      13.478411       7.150691   \n",
       "min         4.000000       1.000000       1.000000       1.000000   \n",
       "25%         4.000000       7.000000       2.000000      29.000000   \n",
       "50%         5.000000      14.000000       6.000000      29.000000   \n",
       "75%         7.000000      22.000000      12.000000      29.000000   \n",
       "max         8.000000      31.000000     195.000000      47.000000   \n",
       "\n",
       "              colour       location  model photography          price  \\\n",
       "count  165474.000000  165474.000000      165474.000000  165474.000000   \n",
       "mean        6.227655       3.258198           1.260071      43.802507   \n",
       "std         4.235606       1.713206           0.438674      12.548131   \n",
       "min         1.000000       1.000000           1.000000      18.000000   \n",
       "25%         3.000000       2.000000           1.000000      33.000000   \n",
       "50%         4.000000       3.000000           1.000000      43.000000   \n",
       "75%         9.000000       5.000000           2.000000      52.000000   \n",
       "max        14.000000       6.000000           2.000000      82.000000   \n",
       "\n",
       "             price 2           page  \n",
       "count  165474.000000  165474.000000  \n",
       "mean        1.488167       1.710166  \n",
       "std         0.499861       0.982412  \n",
       "min         1.000000       1.000000  \n",
       "25%         1.000000       1.000000  \n",
       "50%         1.000000       1.000000  \n",
       "75%         2.000000       2.000000  \n",
       "max         2.000000       5.000000  "
      ]
     },
     "execution_count": 11,
     "metadata": {},
     "output_type": "execute_result"
    }
   ],
   "source": [
    "df.describe()"
   ]
  },
  {
   "cell_type": "code",
   "execution_count": 12,
   "id": "e83716ce",
   "metadata": {},
   "outputs": [
    {
     "data": {
      "text/plain": [
       "<AxesSubplot:ylabel='order'>"
      ]
     },
     "execution_count": 12,
     "metadata": {},
     "output_type": "execute_result"
    },
    {
     "data": {
      "image/png": "[encoded data removed]",
      "text/plain": [
       "<Figure size 432x288 with 1 Axes>"
      ]
     },
     "metadata": {
      "needs_background": "light"
     },
     "output_type": "display_data"
    }
   ],
   "source": [
    "import seaborn as sns\n",
    "sns.boxplot(y = df.order)"
   ]
  },
  {
   "cell_type": "code",
   "execution_count": 13,
   "id": "5e2ff0bf",
   "metadata": {},
   "outputs": [
    {
     "name": "stderr",
     "output_type": "stream",
     "text": [
      "C:\\Users\\rcman\\anaconda3\\lib\\site-packages\\seaborn\\distributions.py:2619: FutureWarning: `distplot` is a deprecated function and will be removed in a future version. Please adapt your code to use either `displot` (a figure-level function with similar flexibility) or `histplot` (an axes-level function for histograms).\n",
      "  warnings.warn(msg, FutureWarning)\n"
     ]
    },
    {
     "data": {
      "text/plain": [
       "<AxesSubplot:xlabel='order', ylabel='Density'>"
      ]
     },
     "execution_count": 13,
     "metadata": {},
     "output_type": "execute_result"
    },
    {
     "data": {
      "image/png": "[encoded data removed]",
      "text/plain": [
       "<Figure size 432x288 with 1 Axes>"
      ]
     },
     "metadata": {
      "needs_background": "light"
     },
     "output_type": "display_data"
    }
   ],
   "source": [
    "import seaborn as sns\n",
    "import matplotlib as plt\n",
    "sns.distplot(df.order)"
   ]
  },
  {
   "cell_type": "code",
   "execution_count": 14,
   "id": "459723c9",
   "metadata": {},
   "outputs": [
    {
     "data": {
      "text/plain": [
       "(115376, 10)"
      ]
     },
     "execution_count": 14,
     "metadata": {},
     "output_type": "execute_result"
    }
   ],
   "source": [
    "import numpy as np\n",
    "import pandas as pd \n",
    "import scipy.stats as stats\n",
    "\n",
    "#find Q1, Q3, and interquartile range for each column\n",
    "Q1 = (df.quantile(q=.25))\n",
    "Q3 = (df.quantile(q=.75))\n",
    "IQR = (df.apply(stats.iqr))\n",
    "\n",
    "#only keep rows in dataframe that have values within 1.5*IQR of Q1 and Q3\n",
    "data_clean = df[~((df < (Q1-1.5*IQR)) | (df > (Q3+1.5*IQR))).any(axis=1)]\n",
    "\n",
    "#find how many rows are left in the dataframe \n",
    "data_clean.shape"
   ]
  },
  {
   "cell_type": "code",
   "execution_count": 15,
   "id": "c49aa3fa",
   "metadata": {
    "scrolled": true
   },
   "outputs": [
    {
     "name": "stdout",
     "output_type": "stream",
     "text": [
      "The IQR is 10.0\n",
      "The lower bound value is -13.0\n",
      "The upper bound value is 27.0\n",
      "Total number of outliers are 11523\n"
     ]
    }
   ],
   "source": [
    "import IQR\n",
    "df=IQR.out_iqr(df,\"order\")"
   ]
  },
  {
   "cell_type": "code",
   "execution_count": 16,
   "id": "dd752434",
   "metadata": {},
   "outputs": [
    {
     "data": {
      "text/plain": [
       "318      -0.779048\n",
       "319      -0.738342\n",
       "320      -0.697636\n",
       "321      -0.656930\n",
       "322      -0.616224\n",
       "            ...   \n",
       "165381    0.401425\n",
       "165382    0.442131\n",
       "165383    0.482837\n",
       "165384    0.523543\n",
       "165385    0.564249\n",
       "Name: order, Length: 11523, dtype: float64"
      ]
     },
     "execution_count": 16,
     "metadata": {},
     "output_type": "execute_result"
    }
   ],
   "source": [
    "import pandas as pd\n",
    "import numpy as np\n",
    "import scipy.stats as stats\n",
    "ax=stats.zscore(df.order)\n",
    "ax"
   ]
  },
  {
   "cell_type": "code",
   "execution_count": 26,
   "id": "14069927",
   "metadata": {
    "scrolled": true
   },
   "outputs": [
    {
     "ename": "AttributeError",
     "evalue": "'DataFrame' object has no attribute 'column'",
     "output_type": "error",
     "traceback": [
      "\u001b[1;31m---------------------------------------------------------------------------\u001b[0m",
      "\u001b[1;31mAttributeError\u001b[0m                            Traceback (most recent call last)",
      "\u001b[1;32m~\\AppData\\Local\\Temp/ipykernel_11304/1863160568.py\u001b[0m in \u001b[0;36m<module>\u001b[1;34m\u001b[0m\n\u001b[0;32m      1\u001b[0m \u001b[1;32mimport\u001b[0m \u001b[0mzscore\u001b[0m\u001b[1;33m\u001b[0m\u001b[1;33m\u001b[0m\u001b[0m\n\u001b[1;32m----> 2\u001b[1;33m \u001b[0mzscore\u001b[0m\u001b[1;33m.\u001b[0m\u001b[0mz_score\u001b[0m\u001b[1;33m(\u001b[0m\u001b[0mdf\u001b[0m\u001b[1;33m,\u001b[0m\u001b[0mdf\u001b[0m\u001b[1;33m.\u001b[0m\u001b[0morder\u001b[0m\u001b[1;33m,\u001b[0m\u001b[1;36m5\u001b[0m\u001b[1;33m)\u001b[0m\u001b[1;33m\u001b[0m\u001b[1;33m\u001b[0m\u001b[0m\n\u001b[0m",
      "\u001b[1;32m~\\Data Science\\zscore.py\u001b[0m in \u001b[0;36mz_score\u001b[1;34m(df, column, point)\u001b[0m\n\u001b[0;32m      6\u001b[0m \"\"\"\n\u001b[0;32m      7\u001b[0m \u001b[1;32mdef\u001b[0m \u001b[0mz_score\u001b[0m\u001b[1;33m(\u001b[0m\u001b[0mdf\u001b[0m\u001b[1;33m.\u001b[0m\u001b[0mcolumn\u001b[0m\u001b[1;33m,\u001b[0m\u001b[0mpoint\u001b[0m\u001b[1;33m)\u001b[0m\u001b[1;33m:\u001b[0m\u001b[1;33m\u001b[0m\u001b[1;33m\u001b[0m\u001b[0m\n\u001b[1;32m----> 8\u001b[1;33m     \u001b[0mmean\u001b[0m\u001b[1;33m=\u001b[0m\u001b[0msum\u001b[0m\u001b[1;33m(\u001b[0m\u001b[0mdf\u001b[0m\u001b[1;33m.\u001b[0m\u001b[0mcolumn\u001b[0m\u001b[1;33m)\u001b[0m\u001b[1;33m/\u001b[0m\u001b[0mlen\u001b[0m\u001b[1;33m(\u001b[0m\u001b[0mdf\u001b[0m\u001b[1;33m.\u001b[0m\u001b[0mcolumn\u001b[0m\u001b[1;33m)\u001b[0m\u001b[1;33m\u001b[0m\u001b[1;33m\u001b[0m\u001b[0m\n\u001b[0m\u001b[0;32m      9\u001b[0m     \u001b[0msd\u001b[0m \u001b[1;33m=\u001b[0m \u001b[0mnp\u001b[0m\u001b[1;33m.\u001b[0m\u001b[0mstd\u001b[0m\u001b[1;33m(\u001b[0m\u001b[0mdf\u001b[0m\u001b[1;33m.\u001b[0m\u001b[0mcolumn\u001b[0m\u001b[1;33m,\u001b[0m \u001b[0mddof\u001b[0m\u001b[1;33m=\u001b[0m\u001b[1;36m1\u001b[0m\u001b[1;33m)\u001b[0m\u001b[1;33m\u001b[0m\u001b[1;33m\u001b[0m\u001b[0m\n\u001b[0;32m     10\u001b[0m     \u001b[0mpoint\u001b[0m\u001b[1;33m=\u001b[0m\u001b[1;33m(\u001b[0m\u001b[0mpoint\u001b[0m\u001b[1;33m-\u001b[0m\u001b[0mmean\u001b[0m\u001b[1;33m)\u001b[0m\u001b[1;33m/\u001b[0m\u001b[0msd\u001b[0m\u001b[1;33m\u001b[0m\u001b[1;33m\u001b[0m\u001b[0m\n",
      "\u001b[1;32m~\\anaconda3\\lib\\site-packages\\pandas\\core\\generic.py\u001b[0m in \u001b[0;36m__getattr__\u001b[1;34m(self, name)\u001b[0m\n\u001b[0;32m   5485\u001b[0m         ):\n\u001b[0;32m   5486\u001b[0m             \u001b[1;32mreturn\u001b[0m \u001b[0mself\u001b[0m\u001b[1;33m[\u001b[0m\u001b[0mname\u001b[0m\u001b[1;33m]\u001b[0m\u001b[1;33m\u001b[0m\u001b[1;33m\u001b[0m\u001b[0m\n\u001b[1;32m-> 5487\u001b[1;33m         \u001b[1;32mreturn\u001b[0m \u001b[0mobject\u001b[0m\u001b[1;33m.\u001b[0m\u001b[0m__getattribute__\u001b[0m\u001b[1;33m(\u001b[0m\u001b[0mself\u001b[0m\u001b[1;33m,\u001b[0m \u001b[0mname\u001b[0m\u001b[1;33m)\u001b[0m\u001b[1;33m\u001b[0m\u001b[1;33m\u001b[0m\u001b[0m\n\u001b[0m\u001b[0;32m   5488\u001b[0m \u001b[1;33m\u001b[0m\u001b[0m\n\u001b[0;32m   5489\u001b[0m     \u001b[1;32mdef\u001b[0m \u001b[0m__setattr__\u001b[0m\u001b[1;33m(\u001b[0m\u001b[0mself\u001b[0m\u001b[1;33m,\u001b[0m \u001b[0mname\u001b[0m\u001b[1;33m:\u001b[0m \u001b[0mstr\u001b[0m\u001b[1;33m,\u001b[0m \u001b[0mvalue\u001b[0m\u001b[1;33m)\u001b[0m \u001b[1;33m->\u001b[0m \u001b[1;32mNone\u001b[0m\u001b[1;33m:\u001b[0m\u001b[1;33m\u001b[0m\u001b[1;33m\u001b[0m\u001b[0m\n",
      "\u001b[1;31mAttributeError\u001b[0m: 'DataFrame' object has no attribute 'column'"
     ]
    }
   ],
   "source": [
    "import zscore\n",
    "zscore.z_score(df,df.order,5)"
   ]
  },
  {
   "cell_type": "code",
   "execution_count": 18,
   "id": "6a0b7bb6",
   "metadata": {},
   "outputs": [
    {
     "data": {
      "text/plain": [
       "<matplotlib.collections.PathCollection at 0x2cae5674940>"
      ]
     },
     "execution_count": 18,
     "metadata": {},
     "output_type": "execute_result"
    },
    {
     "data": {
      "image/png": "[encoded data removed]",
      "text/plain": [
       "<Figure size 432x288 with 1 Axes>"
      ]
     },
     "metadata": {
      "needs_background": "light"
     },
     "output_type": "display_data"
    }
   ],
   "source": [
    "import matplotlib.pyplot as plt\n",
    "plt.scatter(df.order, ax)"
   ]
  },
  {
   "cell_type": "code",
   "execution_count": 19,
   "id": "3e028d93",
   "metadata": {},
   "outputs": [
    {
     "data": {
      "text/plain": [
       "array([1, 1, 1, ..., 1, 1, 1])"
      ]
     },
     "execution_count": 19,
     "metadata": {},
     "output_type": "execute_result"
    }
   ],
   "source": [
    "import numpy as np\n",
    "from sklearn.neighbors import LocalOutlierFactor\n",
    "c = np.column_stack((df.day, df.order))\n",
    "clf = LocalOutlierFactor(n_neighbors=2)\n",
    "clf.fit_predict(c)"
   ]
  }
 ],
 "metadata": {
  "kernelspec": {
   "display_name": "Python 3 (ipykernel)",
   "language": "python",
   "name": "python3"
  },
  "language_info": {
   "codemirror_mode": {
    "name": "ipython",
    "version": 3
   },
   "file_extension": ".py",
   "mimetype": "text/x-python",
   "name": "python",
   "nbconvert_exporter": "python",
   "pygments_lexer": "ipython3",
   "version": "3.9.7"
  }
 },
 "nbformat": 4,
 "nbformat_minor": 5
}
